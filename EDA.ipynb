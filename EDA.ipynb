{
 "metadata": {
  "language_info": {
   "codemirror_mode": {
    "name": "ipython",
    "version": 3
   },
   "file_extension": ".py",
   "mimetype": "text/x-python",
   "name": "python",
   "nbconvert_exporter": "python",
   "pygments_lexer": "ipython3",
   "version": "3.8.5"
  },
  "orig_nbformat": 2,
  "kernelspec": {
   "name": "python385jvsc74a57bd0781293701fae006b757494aea17d56c5067e2e9654ab7ca85952bc152d4cceea",
   "display_name": "Python 3.8.5 64-bit ('venv')"
  },
  "metadata": {
   "interpreter": {
    "hash": "781293701fae006b757494aea17d56c5067e2e9654ab7ca85952bc152d4cceea"
   }
  }
 },
 "nbformat": 4,
 "nbformat_minor": 2,
 "cells": [
  {
   "cell_type": "code",
   "execution_count": 4,
   "metadata": {},
   "outputs": [],
   "source": [
    "import csv\n",
    "import pandas as pd\n",
    "import numpy as np\n",
    "import matplotlib.pyplot as plt\n",
    "import seaborn as sns\n",
    "import datetime\n",
    "import calendar\n",
    "\n",
    "import data\n",
    "\n",
    "# Pandas options\n",
    "pd.set_option('display.float_format', lambda x: '%.3f' % x)\n",
    "\n",
    "# Custom Colors\n",
    "MAGENTA = \"#6C3483\"\n",
    "GREEN = \"#239B56\"\n",
    "BLUE = \"#5DADE2\"\n",
    "YELLOW = \"#ffb031\""
   ]
  },
  {
   "cell_type": "code",
   "execution_count": 5,
   "metadata": {},
   "outputs": [
    {
     "output_type": "execute_result",
     "data": {
      "text/plain": [
       "             departure               return departure_id    departure_name  \\\n",
       "0  2020-03-23 06:09:44  2020-03-23 06:16:26           86          Kuusitie   \n",
       "1  2020-03-23 06:11:58  2020-03-23 06:26:31           26        Kamppi (M)   \n",
       "2  2020-03-23 06:16:29  2020-03-23 06:24:23          268  Porolahden koulu   \n",
       "3  2020-03-23 06:33:53  2020-03-23 07:14:03          751        Vallipolku   \n",
       "4  2020-03-23 06:36:09  2020-03-23 07:04:10           62    Messitytönkatu   \n",
       "\n",
       "  return_id       return_name  distance (m)  duration (sec.)  \\\n",
       "0     111.0     Esterinportti      1747.000          401.000   \n",
       "1      10.0       Kasarmitori      1447.000          869.000   \n",
       "2     254.0       Agnetankuja      1772.000          469.000   \n",
       "3     106.0   Korppaanmäentie      7456.000         2406.000   \n",
       "4     121.0  Vilhonvuorenkatu      7120.000         1679.000   \n",
       "\n",
       "   avg_speed (km/h)                    departure_coordinates  \\\n",
       "0             0.261                 (60.1952452, 24.9018997)   \n",
       "1             0.100                 (60.1686095, 24.9305373)   \n",
       "2             0.227  (60.19553971683871, 25.053580944057305)   \n",
       "3             0.186                   (60.227827, 24.819614)   \n",
       "4             0.254                                      NaN   \n",
       "\n",
       "                         return_coordinates  Air temperature (degC)  \n",
       "0                  (60.1975724, 24.9267808)                   0.900  \n",
       "1           (60.1650171805, 24.94947287873)                   0.900  \n",
       "2  (60.187234122757424, 25.036412289626025)                   0.900  \n",
       "3                  (60.2034735, 24.8989297)                   0.900  \n",
       "4                  (60.1864633, 24.9678718)                   0.900  "
      ],
      "text/html": "<div>\n<style scoped>\n    .dataframe tbody tr th:only-of-type {\n        vertical-align: middle;\n    }\n\n    .dataframe tbody tr th {\n        vertical-align: top;\n    }\n\n    .dataframe thead th {\n        text-align: right;\n    }\n</style>\n<table border=\"1\" class=\"dataframe\">\n  <thead>\n    <tr style=\"text-align: right;\">\n      <th></th>\n      <th>departure</th>\n      <th>return</th>\n      <th>departure_id</th>\n      <th>departure_name</th>\n      <th>return_id</th>\n      <th>return_name</th>\n      <th>distance (m)</th>\n      <th>duration (sec.)</th>\n      <th>avg_speed (km/h)</th>\n      <th>departure_coordinates</th>\n      <th>return_coordinates</th>\n      <th>Air temperature (degC)</th>\n    </tr>\n  </thead>\n  <tbody>\n    <tr>\n      <th>0</th>\n      <td>2020-03-23 06:09:44</td>\n      <td>2020-03-23 06:16:26</td>\n      <td>86</td>\n      <td>Kuusitie</td>\n      <td>111.0</td>\n      <td>Esterinportti</td>\n      <td>1747.000</td>\n      <td>401.000</td>\n      <td>0.261</td>\n      <td>(60.1952452, 24.9018997)</td>\n      <td>(60.1975724, 24.9267808)</td>\n      <td>0.900</td>\n    </tr>\n    <tr>\n      <th>1</th>\n      <td>2020-03-23 06:11:58</td>\n      <td>2020-03-23 06:26:31</td>\n      <td>26</td>\n      <td>Kamppi (M)</td>\n      <td>10.0</td>\n      <td>Kasarmitori</td>\n      <td>1447.000</td>\n      <td>869.000</td>\n      <td>0.100</td>\n      <td>(60.1686095, 24.9305373)</td>\n      <td>(60.1650171805, 24.94947287873)</td>\n      <td>0.900</td>\n    </tr>\n    <tr>\n      <th>2</th>\n      <td>2020-03-23 06:16:29</td>\n      <td>2020-03-23 06:24:23</td>\n      <td>268</td>\n      <td>Porolahden koulu</td>\n      <td>254.0</td>\n      <td>Agnetankuja</td>\n      <td>1772.000</td>\n      <td>469.000</td>\n      <td>0.227</td>\n      <td>(60.19553971683871, 25.053580944057305)</td>\n      <td>(60.187234122757424, 25.036412289626025)</td>\n      <td>0.900</td>\n    </tr>\n    <tr>\n      <th>3</th>\n      <td>2020-03-23 06:33:53</td>\n      <td>2020-03-23 07:14:03</td>\n      <td>751</td>\n      <td>Vallipolku</td>\n      <td>106.0</td>\n      <td>Korppaanmäentie</td>\n      <td>7456.000</td>\n      <td>2406.000</td>\n      <td>0.186</td>\n      <td>(60.227827, 24.819614)</td>\n      <td>(60.2034735, 24.8989297)</td>\n      <td>0.900</td>\n    </tr>\n    <tr>\n      <th>4</th>\n      <td>2020-03-23 06:36:09</td>\n      <td>2020-03-23 07:04:10</td>\n      <td>62</td>\n      <td>Messitytönkatu</td>\n      <td>121.0</td>\n      <td>Vilhonvuorenkatu</td>\n      <td>7120.000</td>\n      <td>1679.000</td>\n      <td>0.254</td>\n      <td>NaN</td>\n      <td>(60.1864633, 24.9678718)</td>\n      <td>0.900</td>\n    </tr>\n  </tbody>\n</table>\n</div>"
     },
     "metadata": {},
     "execution_count": 5
    }
   ],
   "source": [
    "dataframe = pd.read_csv(\"data/database.csv\", low_memory=False)\n",
    "dataframe.head()"
   ]
  },
  {
   "cell_type": "code",
   "execution_count": null,
   "metadata": {},
   "outputs": [],
   "source": []
  }
 ]
}